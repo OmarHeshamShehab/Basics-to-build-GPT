{
 "cells": [
  {
   "cell_type": "markdown",
   "id": "803e7681",
   "metadata": {},
   "source": [
    "# Reading Shakespeare DS"
   ]
  },
  {
   "cell_type": "code",
   "execution_count": 1,
   "id": "fc776432",
   "metadata": {},
   "outputs": [],
   "source": [
    "with open(\"shakespeare_input_ds.txt\", \"r\", encoding=\"utf-8\") as ds:\n",
    "    text = ds.read()"
   ]
  },
  {
   "cell_type": "markdown",
   "id": "58331d35",
   "metadata": {},
   "source": [
    "# Check DS length"
   ]
  },
  {
   "cell_type": "code",
   "execution_count": 2,
   "id": "6aa1afc5",
   "metadata": {},
   "outputs": [
    {
     "name": "stdout",
     "output_type": "stream",
     "text": [
      "Length of text: 1115394\n"
     ]
    }
   ],
   "source": [
    "print(\"Length of text:\", len(text))"
   ]
  },
  {
   "cell_type": "markdown",
   "id": "cb2b50d2",
   "metadata": {},
   "source": [
    "# print first 100 characters"
   ]
  },
  {
   "cell_type": "code",
   "execution_count": 3,
   "id": "02d77416",
   "metadata": {},
   "outputs": [
    {
     "name": "stdout",
     "output_type": "stream",
     "text": [
      "First 100 characters of text: First Citizen:\n",
      "Before we proceed any further, hear me speak.\n",
      "\n",
      "All:\n",
      "Speak, speak.\n",
      "\n",
      "First Citizen:\n",
      "You\n"
     ]
    }
   ],
   "source": [
    "print(\"First 100 characters of text:\", text[:100])"
   ]
  },
  {
   "cell_type": "markdown",
   "id": "97a19350",
   "metadata": {},
   "source": [
    "# Specify Unique Characters that appear in this text"
   ]
  },
  {
   "cell_type": "code",
   "execution_count": 4,
   "id": "cb6b7619",
   "metadata": {},
   "outputs": [
    {
     "name": "stdout",
     "output_type": "stream",
     "text": [
      "Vocabulary size: 65\n",
      "\n",
      " !$&',-.3:;?ABCDEFGHIJKLMNOPQRSTUVWXYZabcdefghijklmnopqrstuvwxyz\n"
     ]
    }
   ],
   "source": [
    "chars_sorted = sorted(list(set(text)))\n",
    "vocab_size = len(chars_sorted)\n",
    "print(\"Vocabulary size:\", vocab_size)\n",
    "print(\"\".join(chars_sorted))"
   ]
  },
  {
   "cell_type": "markdown",
   "id": "b9b44a7f",
   "metadata": {},
   "source": [
    "# Encoding & Decoding Charcters"
   ]
  },
  {
   "cell_type": "code",
   "execution_count": 5,
   "id": "0d2f5733",
   "metadata": {},
   "outputs": [
    {
     "name": "stdout",
     "output_type": "stream",
     "text": [
      "Encoded string: [46, 47, 47, 1, 58, 46, 43, 56, 43]\n",
      "Decoded string: hii there\n"
     ]
    }
   ],
   "source": [
    "# Create a mapping from index numbers to characters\n",
    "# Example: {0: 'h', 1: 'i', 2: ' '} if chars_sorted is ['h', 'i', ' ']\n",
    "string_into_integer = {i: c for i, c in enumerate(chars_sorted)}\n",
    "\n",
    "# Create the reverse mapping from characters to index numbers\n",
    "# Example: {'h': 0, 'i': 1, ' ': 2}\n",
    "integer_into_string = {c: i for i, c in enumerate(chars_sorted)}\n",
    "\n",
    "# Define encoder: converts text to list of numbers using integer_into_string\n",
    "# Example: \"hi\" → [0, 1]\n",
    "encoded = lambda x: [integer_into_string[c] for c in x]\n",
    "\n",
    "# Define decoder: converts list of numbers back to text using string_into_integer\n",
    "# Example: [0, 1] → \"hi\"\n",
    "decoded = lambda x: \"\".join([string_into_integer[c] for c in x])\n",
    "\n",
    "# Test the encoding and decoding\n",
    "print(\"Encoded string:\", encoded(\"hii there\"))  # Shows the number version\n",
    "print(\"Decoded string:\", decoded(encoded(\"hii there\")))  # Should return original text"
   ]
  },
  {
   "cell_type": "markdown",
   "id": "3f6f59d4",
   "metadata": {},
   "source": [
    "# Converting to tensor using torch"
   ]
  },
  {
   "cell_type": "code",
   "execution_count": 6,
   "id": "5039cf06",
   "metadata": {},
   "outputs": [
    {
     "name": "stdout",
     "output_type": "stream",
     "text": [
      "Data shape: torch.Size([1115394])\n",
      "Data type: torch.int64\n",
      "First 100 elements of data: tensor([18, 47, 56, 57, 58,  1, 15, 47, 58, 47, 64, 43, 52, 10,  0, 14, 43, 44,\n",
      "        53, 56, 43,  1, 61, 43,  1, 54, 56, 53, 41, 43, 43, 42,  1, 39, 52, 63,\n",
      "         1, 44, 59, 56, 58, 46, 43, 56,  6,  1, 46, 43, 39, 56,  1, 51, 43,  1,\n",
      "        57, 54, 43, 39, 49,  8,  0,  0, 13, 50, 50, 10,  0, 31, 54, 43, 39, 49,\n",
      "         6,  1, 57, 54, 43, 39, 49,  8,  0,  0, 18, 47, 56, 57, 58,  1, 15, 47,\n",
      "        58, 47, 64, 43, 52, 10,  0, 37, 53, 59])\n"
     ]
    }
   ],
   "source": [
    "import torch\n",
    "\n",
    "data = torch.tensor(encoded(text), dtype=torch.long)  # Convert to tensor\n",
    "print(\"Data shape:\", data.shape)\n",
    "print(\"Data type:\", data.dtype)\n",
    "print(\"First 100 elements of data:\", data[:100])  # Print first 10 elements"
   ]
  },
  {
   "cell_type": "markdown",
   "id": "9ec72f49",
   "metadata": {},
   "source": [
    "# Split into training & test set"
   ]
  },
  {
   "cell_type": "code",
   "execution_count": 7,
   "id": "a56c259b",
   "metadata": {},
   "outputs": [],
   "source": [
    "n = int(0.9 * len(data))  # 90% of the data for training\n",
    "train_data = data[:n]  # Training data\n",
    "val_data = data[n:]  # Validation data"
   ]
  },
  {
   "cell_type": "code",
   "execution_count": 8,
   "id": "47614bab",
   "metadata": {},
   "outputs": [
    {
     "data": {
      "text/plain": [
       "tensor([18, 47, 56, 57, 58,  1, 15, 47, 58])"
      ]
     },
     "execution_count": 8,
     "metadata": {},
     "output_type": "execute_result"
    }
   ],
   "source": [
    "block_size = 8  # Number of characters in each block\n",
    "train_data[: block_size + 1]  # Show first block of training data"
   ]
  },
  {
   "cell_type": "code",
   "execution_count": 9,
   "id": "1c187a83",
   "metadata": {},
   "outputs": [
    {
     "name": "stdout",
     "output_type": "stream",
     "text": [
      "Context: tensor([18]), Target: 47\n",
      "Context: tensor([18, 47]), Target: 56\n",
      "Context: tensor([18, 47, 56]), Target: 57\n",
      "Context: tensor([18, 47, 56, 57]), Target: 58\n",
      "Context: tensor([18, 47, 56, 57, 58]), Target: 1\n",
      "Context: tensor([18, 47, 56, 57, 58,  1]), Target: 15\n",
      "Context: tensor([18, 47, 56, 57, 58,  1, 15]), Target: 47\n",
      "Context: tensor([18, 47, 56, 57, 58,  1, 15, 47]), Target: 58\n"
     ]
    }
   ],
   "source": [
    "x = train_data[:block_size]  # First block of training data\n",
    "y = train_data[1 : block_size + 1]  # Shifted block for labels\n",
    "for t in range(block_size):\n",
    "    context = x[: t + 1]  # Context is the first t + 1 characters\n",
    "    target = y[t]  # Target is the next character\n",
    "    print(f\"Context: {context}, Target: {target}\")  # Print context and target"
   ]
  }
 ],
 "metadata": {
  "kernelspec": {
   "display_name": "Python 3",
   "language": "python",
   "name": "python3"
  },
  "language_info": {
   "codemirror_mode": {
    "name": "ipython",
    "version": 3
   },
   "file_extension": ".py",
   "mimetype": "text/x-python",
   "name": "python",
   "nbconvert_exporter": "python",
   "pygments_lexer": "ipython3",
   "version": "3.11.11"
  }
 },
 "nbformat": 4,
 "nbformat_minor": 5
}
