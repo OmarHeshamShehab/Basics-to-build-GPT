{
 "cells": [
  {
   "cell_type": "markdown",
   "id": "803e7681",
   "metadata": {},
   "source": [
    "# Reading Shakespeare DS"
   ]
  },
  {
   "cell_type": "code",
   "execution_count": 1,
   "id": "fc776432",
   "metadata": {},
   "outputs": [],
   "source": [
    "with open(\"shakespeare_input_ds.txt\", \"r\", encoding=\"utf-8\") as ds:\n",
    "    text = ds.read()"
   ]
  },
  {
   "cell_type": "markdown",
   "id": "58331d35",
   "metadata": {},
   "source": [
    "# Check DS length"
   ]
  },
  {
   "cell_type": "code",
   "execution_count": 2,
   "id": "6aa1afc5",
   "metadata": {},
   "outputs": [
    {
     "name": "stdout",
     "output_type": "stream",
     "text": [
      "Length of text: 1115394\n"
     ]
    }
   ],
   "source": [
    "print(\"Length of text:\", len(text))"
   ]
  },
  {
   "cell_type": "markdown",
   "id": "cb2b50d2",
   "metadata": {},
   "source": [
    "# print first 100 characters"
   ]
  },
  {
   "cell_type": "code",
   "execution_count": 3,
   "id": "02d77416",
   "metadata": {},
   "outputs": [
    {
     "name": "stdout",
     "output_type": "stream",
     "text": [
      "First 100 characters of text: First Citizen:\n",
      "Before we proceed any further, hear me speak.\n",
      "\n",
      "All:\n",
      "Speak, speak.\n",
      "\n",
      "First Citizen:\n",
      "You\n"
     ]
    }
   ],
   "source": [
    "print(\"First 100 characters of text:\", text[:100])"
   ]
  },
  {
   "cell_type": "markdown",
   "id": "97a19350",
   "metadata": {},
   "source": [
    "# Specify Unique Characters that appear in this text"
   ]
  },
  {
   "cell_type": "code",
   "execution_count": 4,
   "id": "cb6b7619",
   "metadata": {},
   "outputs": [
    {
     "name": "stdout",
     "output_type": "stream",
     "text": [
      "Vocabulary size: 65\n",
      "\n",
      " !$&',-.3:;?ABCDEFGHIJKLMNOPQRSTUVWXYZabcdefghijklmnopqrstuvwxyz\n"
     ]
    }
   ],
   "source": [
    "chars_sorted = sorted(list(set(text)))\n",
    "vocab_size = len(chars_sorted)\n",
    "print(\"Vocabulary size:\", vocab_size)\n",
    "print(\"\".join(chars_sorted))"
   ]
  }
 ],
 "metadata": {
  "kernelspec": {
   "display_name": "Python 3",
   "language": "python",
   "name": "python3"
  },
  "language_info": {
   "codemirror_mode": {
    "name": "ipython",
    "version": 3
   },
   "file_extension": ".py",
   "mimetype": "text/x-python",
   "name": "python",
   "nbconvert_exporter": "python",
   "pygments_lexer": "ipython3",
   "version": "3.11.11"
  }
 },
 "nbformat": 4,
 "nbformat_minor": 5
}
