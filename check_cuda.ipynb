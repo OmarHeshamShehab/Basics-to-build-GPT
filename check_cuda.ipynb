{
 "cells": [
  {
   "cell_type": "code",
   "execution_count": null,
   "id": "0b968f2e",
   "metadata": {},
   "outputs": [
    {
     "name": "stdout",
     "output_type": "stream",
     "text": [
      "PyTorch version: 2.6.0+cu126\n",
      "CUDA available: True\n",
      "CUDA device name: Quadro RTX 5000 with Max-Q Design\n",
      "Current CUDA device: 0\n",
      "Tensor operation successful on CUDA:\n",
      "tensor([[0.3893, 0.8810, 1.2619],\n",
      "        [1.5955, 0.9281, 0.0573],\n",
      "        [1.5899, 1.0082, 0.4579]], device='cuda:0')\n"
     ]
    }
   ],
   "source": [
    "import torch\n",
    "\n",
    "\n",
    "def check_cuda():\n",
    "    print(\"PyTorch version:\", torch.__version__)\n",
    "    print(\"CUDA available:\", torch.cuda.is_available())\n",
    "\n",
    "    if torch.cuda.is_available():\n",
    "        print(\"CUDA device name:\", torch.cuda.get_device_name(0))\n",
    "        print(\"Current CUDA device:\", torch.cuda.current_device())\n",
    "        # Simple tensor operation on CUDA\n",
    "        x = torch.rand(3, 3).cuda()\n",
    "        y = torch.rand(3, 3).cuda()\n",
    "        z = x + y\n",
    "        print(\"Tensor operation successful on CUDA:\")\n",
    "        print(z)\n",
    "    else:\n",
    "        print(\"CUDA is not available. Running on CPU.\")\n",
    "\n",
    "\n",
    "check_cuda()"
   ]
  }
 ],
 "metadata": {
  "kernelspec": {
   "display_name": "Python 3",
   "language": "python",
   "name": "python3"
  },
  "language_info": {
   "codemirror_mode": {
    "name": "ipython",
    "version": 3
   },
   "file_extension": ".py",
   "mimetype": "text/x-python",
   "name": "python",
   "nbconvert_exporter": "python",
   "pygments_lexer": "ipython3",
   "version": "3.11.11"
  }
 },
 "nbformat": 4,
 "nbformat_minor": 5
}
