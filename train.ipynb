{
 "cells": [
  {
   "cell_type": "markdown",
   "id": "f474d883",
   "metadata": {},
   "source": [
    "# Importing Libraries"
   ]
  },
  {
   "cell_type": "code",
   "execution_count": 1,
   "id": "472c6499",
   "metadata": {},
   "outputs": [],
   "source": [
    "import json\n",
    "\n",
    "import numpy as np\n",
    "import torch\n",
    "import torch.nn as nn  # This is the missing import\n",
    "from torch.utils.data import DataLoader, Dataset\n",
    "\n",
    "from model import NeuralNet\n",
    "from nltk_utils import bag_of_words, stem, tokenize"
   ]
  },
  {
   "cell_type": "markdown",
   "id": "39a833a1",
   "metadata": {},
   "source": [
    "# Initialize NLTK"
   ]
  },
  {
   "cell_type": "code",
   "execution_count": 2,
   "id": "8f042f66",
   "metadata": {},
   "outputs": [
    {
     "name": "stderr",
     "output_type": "stream",
     "text": [
      "[nltk_data] Downloading package punkt to\n",
      "[nltk_data]     C:\\Users\\omarh\\AppData\\Roaming\\nltk_data...\n",
      "[nltk_data]   Package punkt is already up-to-date!\n"
     ]
    }
   ],
   "source": [
    "try:\n",
    "    nltk.data.find(\"tokenizers/punkt\")\n",
    "except:\n",
    "    import nltk\n",
    "\n",
    "    nltk.download(\"punkt\")"
   ]
  },
  {
   "cell_type": "markdown",
   "id": "d5ff999d",
   "metadata": {},
   "source": [
    "# Load and process data"
   ]
  },
  {
   "cell_type": "code",
   "execution_count": 3,
   "id": "1785b8c6",
   "metadata": {},
   "outputs": [],
   "source": [
    "with open(\"intents.json\") as f:\n",
    "    intents = json.load(f)\n",
    "\n",
    "all_words, tags, xy = [], [], []\n",
    "for intent in intents[\"intents\"]:\n",
    "    tag = intent[\"tag\"]\n",
    "    tags.append(tag)\n",
    "    for pattern in intent[\"patterns\"]:\n",
    "        tokens = tokenize(pattern)\n",
    "        all_words.extend(tokens)\n",
    "        xy.append((tokens, tag))\n",
    "\n",
    "all_words = [stem(w) for w in all_words if w not in [\"?\", \"!\", \".\"]]\n",
    "all_words = sorted(set(all_words))\n",
    "tags = sorted(set(tags))"
   ]
  },
  {
   "cell_type": "markdown",
   "id": "a80e4bb3",
   "metadata": {},
   "source": [
    "# Create training data"
   ]
  },
  {
   "cell_type": "code",
   "execution_count": 4,
   "id": "971c624f",
   "metadata": {},
   "outputs": [],
   "source": [
    "X = np.array([bag_of_words(tokens, all_words) for tokens, _ in xy])\n",
    "y = np.array([tags.index(tag) for _, tag in xy])"
   ]
  },
  {
   "cell_type": "markdown",
   "id": "633aa99e",
   "metadata": {},
   "source": [
    "# Hyperparameters"
   ]
  },
  {
   "cell_type": "code",
   "execution_count": 5,
   "id": "41e01078",
   "metadata": {},
   "outputs": [],
   "source": [
    "EPOCHS = 20000\n",
    "BATCH_SIZE = 8\n",
    "LEARNING_RATE = 0.01\n",
    "HIDDEN_SIZE = 16\n",
    "\n",
    "class ChatDataset(Dataset):\n",
    "    def __init__(self):\n",
    "        self.x_data = torch.FloatTensor(X)\n",
    "        self.y_data = torch.LongTensor(y)\n",
    "\n",
    "    def __len__(self):\n",
    "        return len(self.x_data)\n",
    "\n",
    "    def __getitem__(self, idx):\n",
    "        return self.x_data[idx], self.y_data[idx]"
   ]
  },
  {
   "cell_type": "markdown",
   "id": "19f42a5d",
   "metadata": {},
   "source": [
    "# Initialize"
   ]
  },
  {
   "cell_type": "code",
   "execution_count": 6,
   "id": "825b2530",
   "metadata": {},
   "outputs": [],
   "source": [
    "dataset = ChatDataset()\n",
    "loader = DataLoader(dataset, batch_size=BATCH_SIZE, shuffle=True)\n",
    "device = torch.device(\"cuda\" if torch.cuda.is_available() else \"cpu\")\n",
    "model = NeuralNet(len(X[0]), HIDDEN_SIZE, len(tags)).to(device)\n",
    "criterion = nn.CrossEntropyLoss()  # This requires the nn import\n",
    "optimizer = torch.optim.Adam(model.parameters(), lr=LEARNING_RATE)"
   ]
  },
  {
   "cell_type": "markdown",
   "id": "dbffb445",
   "metadata": {},
   "source": [
    "# Training loop"
   ]
  },
  {
   "cell_type": "code",
   "execution_count": 7,
   "id": "184ac04a",
   "metadata": {},
   "outputs": [],
   "source": [
    "for epoch in range(EPOCHS):\n",
    "    for words, labels in loader:\n",
    "        words, labels = words.to(device), labels.to(device)\n",
    "        outputs = model(words)\n",
    "        loss = criterion(outputs, labels)\n",
    "        optimizer.zero_grad()\n",
    "        loss.backward()\n",
    "        optimizer.step()"
   ]
  },
  {
   "cell_type": "markdown",
   "id": "8c98aa1a",
   "metadata": {},
   "source": [
    "# Save model"
   ]
  },
  {
   "cell_type": "code",
   "execution_count": 8,
   "id": "ca1e2999",
   "metadata": {},
   "outputs": [
    {
     "name": "stdout",
     "output_type": "stream",
     "text": [
      "Training complete. Model saved to data.pth\n"
     ]
    }
   ],
   "source": [
    "torch.save(\n",
    "    {\n",
    "        \"model_state\": model.state_dict(),\n",
    "        \"input_size\": len(X[0]),\n",
    "        \"hidden_size\": HIDDEN_SIZE,\n",
    "        \"output_size\": len(tags),\n",
    "        \"all_words\": all_words,\n",
    "        \"tags\": tags,\n",
    "    },\n",
    "    \"data.pth\",\n",
    ")\n",
    "\n",
    "print(f\"Training complete. Model saved to data.pth\")\n"
   ]
  }
 ],
 "metadata": {
  "kernelspec": {
   "display_name": "Python 3",
   "language": "python",
   "name": "python3"
  },
  "language_info": {
   "codemirror_mode": {
    "name": "ipython",
    "version": 3
   },
   "file_extension": ".py",
   "mimetype": "text/x-python",
   "name": "python",
   "nbconvert_exporter": "python",
   "pygments_lexer": "ipython3",
   "version": "3.11.11"
  }
 },
 "nbformat": 4,
 "nbformat_minor": 5
}
